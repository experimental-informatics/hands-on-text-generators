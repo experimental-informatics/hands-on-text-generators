{
 "cells": [
  {
   "cell_type": "markdown",
   "metadata": {},
   "source": [
    "# N-Order random text generation"
   ]
  },
  {
   "cell_type": "code",
   "execution_count": 1,
   "metadata": {},
   "outputs": [],
   "source": [
    "import random"
   ]
  },
  {
   "cell_type": "markdown",
   "metadata": {},
   "source": [
    "## Zero-Order text generation\n",
    "\n",
    "Pure random choice. Every character is choosen by the same probabilty. No text is used as a base."
   ]
  },
  {
   "cell_type": "markdown",
   "metadata": {},
   "source": [
    "### Create vocabulary"
   ]
  },
  {
   "cell_type": "code",
   "execution_count": 2,
   "metadata": {},
   "outputs": [
    {
     "name": "stdout",
     "output_type": "stream",
     "text": [
      "['A', 'B', 'C', 'D', 'E', 'F', 'G', 'H', 'I', 'J', 'K', 'L', 'M', 'N', 'O', 'P', 'Q', 'R', 'S', 'T', 'U', 'V', 'W', 'X', 'Y', 'Z']\n"
     ]
    }
   ],
   "source": [
    "''' Create a list of all characters between A and Z. '''\n",
    "vocab = [chr(c) for c in range(ord('A'), ord('Z') + 1)]\n",
    "print(vocab)"
   ]
  },
  {
   "cell_type": "code",
   "execution_count": 3,
   "metadata": {},
   "outputs": [
    {
     "name": "stdout",
     "output_type": "stream",
     "text": [
      "['A', 'B', 'C', 'D', 'E', 'F', 'G', 'H', 'I', 'J', 'K', 'L', 'M', 'N', 'O', 'P', 'Q', 'R', 'S', 'T', 'U', 'V', 'W', 'X', 'Y', 'Z', ',', '.', '!', '?', ' ']\n"
     ]
    }
   ],
   "source": [
    "''' Append punctuation and a space. '''\n",
    "for punct in [',', '.', '!', '?', ' ']:\n",
    "    vocab.append(punct)\n",
    "\n",
    "print(vocab)"
   ]
  },
  {
   "cell_type": "code",
   "execution_count": 4,
   "metadata": {},
   "outputs": [
    {
     "data": {
      "text/plain": [
       "31"
      ]
     },
     "execution_count": 4,
     "metadata": {},
     "output_type": "execute_result"
    }
   ],
   "source": [
    "len(vocab)"
   ]
  },
  {
   "cell_type": "markdown",
   "metadata": {},
   "source": [
    "### Pick a random token from the vocabulary"
   ]
  },
  {
   "cell_type": "code",
   "execution_count": 5,
   "metadata": {},
   "outputs": [
    {
     "name": "stdout",
     "output_type": "stream",
     "text": [
      "19\n"
     ]
    },
    {
     "data": {
      "text/plain": [
       "'T'"
      ]
     },
     "execution_count": 5,
     "metadata": {},
     "output_type": "execute_result"
    }
   ],
   "source": [
    "index = random.randint(0, len(vocab) -1)\n",
    "print(index)\n",
    "vocab[index]"
   ]
  },
  {
   "cell_type": "markdown",
   "metadata": {},
   "source": [
    "### Generate zero-order random text"
   ]
  },
  {
   "cell_type": "code",
   "execution_count": 6,
   "metadata": {},
   "outputs": [
    {
     "name": "stdout",
     "output_type": "stream",
     "text": [
      "N,MFZNL.SFFRW,JVHHL KLLHARIKVU?V.PM MWO!GOAKPG ,IY,LSP?,B?ZB\n"
     ]
    }
   ],
   "source": [
    "generated_text = '' # Variable to store our generated text.\n",
    "\n",
    "for i in range(60):\n",
    "    # Get a random index.\n",
    "    index = random.randint(0, len(vocab) - 1)\n",
    "    \n",
    "    # Get the corresponding token.\n",
    "    token = vocab[index]\n",
    "    \n",
    "    # Append it to our generated text.\n",
    "    generated_text += token\n",
    "\n",
    "# Print the generated text after the loop has ended.\n",
    "print(generated_text)"
   ]
  },
  {
   "cell_type": "markdown",
   "metadata": {},
   "source": [
    "## First-Order text generation\n",
    "\n",
    "Probabilities are drawn from a text analysis. Characters that appear more often in the text will have a higher probability to be chosen.<br>\n",
    "\n",
    "The easiest method is to simply store all characters in a list.\n",
    "Characters that appear often in the text are more often stored in the list<br>\n",
    "and thus picked more often."
   ]
  },
  {
   "cell_type": "code",
   "execution_count": 7,
   "metadata": {},
   "outputs": [
    {
     "name": "stdout",
     "output_type": "stream",
     "text": [
      "characters: ['a', 'a', 'a', 'b', 'a', 'a'] \n",
      "\n",
      "b a a a b a a a a a b a a a a a a a a a "
     ]
    }
   ],
   "source": [
    "''' Example. '''\n",
    "\n",
    "txt = 'aaabaa'\n",
    "\n",
    "characters = [c for c in txt]\n",
    "print('characters:', characters, '\\n')\n",
    "\n",
    "for i in range(20):\n",
    "    print(random.choice(characters), end=' ')"
   ]
  },
  {
   "cell_type": "markdown",
   "metadata": {},
   "source": [
    "The list of characters contains 5 'a's and only 1 b, so a randomly picked character will be an 'a' most of the time."
   ]
  },
  {
   "cell_type": "code",
   "execution_count": 8,
   "metadata": {},
   "outputs": [
    {
     "name": "stdout",
     "output_type": "stream",
     "text": [
      "\n",
      "– Die POESIE ist zweckfrei.\n",
      "(Schon das macht sie zur Irritation.)\n",
      "\n",
      "– Die POESIE muss kein Kabinett bilden, zum Beispiel, und muss nicht von einer analphabetischen Mehrheit gewählt werden.\n",
      "\n",
      "– Die POES\n"
     ]
    }
   ],
   "source": [
    "''' Frisch, Max. Schwarzes Quadrat. Zwei Poetikvorlesungen. Frankfurt am Main: Suhrkamp, 2008. 73-74. '''\n",
    "\n",
    "txt = '''\n",
    "– Die POESIE ist zweckfrei.\n",
    "(Schon das macht sie zur Irritation.)\n",
    "\n",
    "– Die POESIE muss kein Kabinett bilden, zum Beispiel, und muss nicht von einer analphabetischen Mehrheit gewählt werden.\n",
    "\n",
    "– Die POESIE ist da oder manchmal auch nicht.\n",
    "(Regierungen sind immer da.)\n",
    "\n",
    "– Die POESIE kann ignoriert werden.\n",
    "(Ohne dass die Polizei deswegen eingreift.)\n",
    "\n",
    "– Die POESIE entsteht trotzdem da und dort.\n",
    "\n",
    "– Die POESIE ist der Durchbruch zur genuinen Erfahrung unsrer menschlichen Existenz in ihrer geschichtlichen Bedingtheit. Sie befreit uns zur Spontaneität – was beides sein kann: Glück oder Schrecken.\n",
    "(Regierungen wollen immer nur unser Glück.)\n",
    "\n",
    "– Die POESIE macht uns betroffen.\n",
    "(Lebendig.)\n",
    "\n",
    "– Die POESIE unterwandert unser ideologisiertes Bewusstsein und insofoern ist sie subversiv in jedem gesellschaftlichen System.\n",
    "(Platon hat natürlich recht: der Poet ist als Staatsbürger dubios, auch wenn er seine Steuern zahlt, auch wenn er als Soldat gehorcht, damit er nicht von seinen eignen Leuten erschossen wird; solange er aber nicht erschossen ist, bleibt er ein Poet.)\n",
    "\n",
    "– Die POESIE muss keine Massnahmen ergreifen.\n",
    "(Sie muss nur Poesie sein.)\n",
    "\n",
    "– Die POESIE findet sich nicht ab (im Gegensatz zur Politik) mit dem Machbaren; sie kann nicht lassen von der Trauer, dass das Menschsein auf dieser Erde nicht anders ist.\n",
    "\n",
    "– Die POESIE sagt nicht, wohin mit dem Atom-Müll.\n",
    "(Rezepte sind von ihr nicht zu erwarten.)\n",
    "\n",
    "– Die POESIE ist arrogant.\n",
    "(Sie entzieht sich der Pflicht, die Welt zu regieren.)\n",
    "\n",
    "– Die POESIE ist unbrauchbar.\n",
    "(Es genügt ihr, dass sie da ist: als Ausdruck unseres profunden Ungenügens und unsrer profunden Sehnsucht.)\n",
    "\n",
    "– Die POESIE wahrt die Utopie.\n",
    "'''\n",
    "print(txt[:200])"
   ]
  },
  {
   "cell_type": "markdown",
   "metadata": {},
   "source": [
    "### Generate first-order random text"
   ]
  },
  {
   "cell_type": "code",
   "execution_count": 9,
   "metadata": {},
   "outputs": [
    {
     "name": "stdout",
     "output_type": "stream",
     "text": [
      "m e it  bSgieSbDs ycfbdasaSr,WeoePiuEiedc ele..O.r"
     ]
    }
   ],
   "source": [
    "characters = [c for c in txt]\n",
    "\n",
    "for i in range(50):\n",
    "    print(random.choice(characters), end='')"
   ]
  },
  {
   "cell_type": "markdown",
   "metadata": {},
   "source": [
    "## Second-Order text generation\n",
    "\n",
    "The probability of a character depends on its left neighbor.<br>\n",
    "For that we will create a dictionary called 'vocabulary'. For each individual token of our text we will store all next tokens.<br>\n",
    "When we generate our text we will pick a random token of this list as we have done it in the first-order text generation."
   ]
  },
  {
   "cell_type": "markdown",
   "metadata": {},
   "source": [
    "### Create vocabulary"
   ]
  },
  {
   "cell_type": "code",
   "execution_count": 10,
   "metadata": {},
   "outputs": [],
   "source": [
    "''' Create a vocabulary.\n",
    "Store for each character all characters that are next to it in a dictionary.'''\n",
    "\n",
    "vocabulary = {}\n",
    "\n",
    "# Loop through the text:\n",
    "for i in range(len(txt) -1): # we add -1 because the last token of our text has no following next token.\n",
    "    \n",
    "    # The current token is the key for our dictionary.\n",
    "    key = txt[i]\n",
    "    \n",
    "    # The next token (i+1) is the corresponding value.\n",
    "    value = txt[i+1]\n",
    "    \n",
    "    # Check if the key exists in the dictionary already.\n",
    "    if key in vocabulary.keys():\n",
    "        # If yes, append the value to the list.\n",
    "        vocabulary[key].append(value)\n",
    "        \n",
    "    # If not, insert the new key + the value in form of a [list].\n",
    "    else:\n",
    "        vocabulary[key] = [value]"
   ]
  },
  {
   "cell_type": "code",
   "execution_count": 11,
   "metadata": {},
   "outputs": [
    {
     "data": {
      "text/plain": [
       "['O',\n",
       " 'O',\n",
       " 'O',\n",
       " 'O',\n",
       " 'o',\n",
       " 'O',\n",
       " 'O',\n",
       " 'O',\n",
       " 'O',\n",
       " 'l',\n",
       " 'o',\n",
       " 'o',\n",
       " 'O',\n",
       " 'o',\n",
       " 'O',\n",
       " 'o',\n",
       " 'O',\n",
       " 'O',\n",
       " 'f',\n",
       " 'O',\n",
       " 'O']"
      ]
     },
     "execution_count": 11,
     "metadata": {},
     "output_type": "execute_result"
    }
   ],
   "source": [
    "''' Print all options for one character. '''\n",
    "key = 'P'\n",
    "vocabulary[key]"
   ]
  },
  {
   "cell_type": "markdown",
   "metadata": {},
   "source": [
    "Some tokens appear more often than others. Due to that their probability to be chosen is higher than the one for others.<br>\n",
    "If we have a small dataset, the options for a key are limited. In the example above with a 'P' as key the next character can be any of 'O', 'o', 'l' or 'f'.<br>\n",
    "A different token is not possible.\n",
    "\n",
    "Next we write a function, which takes a key (like 'P') as argument and returns one possible next token."
   ]
  },
  {
   "cell_type": "code",
   "execution_count": 12,
   "metadata": {},
   "outputs": [
    {
     "name": "stdout",
     "output_type": "stream",
     "text": [
      "O\n"
     ]
    }
   ],
   "source": [
    "''' Return a randomly selected token from our list of options. '''\n",
    "\n",
    "def next_token(key):\n",
    "    \n",
    "    # Get all options stored for in the dictionary for this key.\n",
    "    options = vocabulary[key]\n",
    "    \n",
    "    # Pick one.\n",
    "    choice = random.choice(options)\n",
    "    \n",
    "    # Return this value.\n",
    "    return choice\n",
    "\n",
    "print(next_token('P'))"
   ]
  },
  {
   "cell_type": "markdown",
   "metadata": {},
   "source": [
    "### Generate second-order random text\n",
    "\n",
    "To generate our text we create a variable with some input (at least one key).\n",
    "\n",
    "Then we run a loop. The argument for `range` defines how many tokens we will generate.\n",
    "\n",
    "In each iteration of our loop we call the function `next_token()` and append the returned token to our text."
   ]
  },
  {
   "cell_type": "code",
   "execution_count": 13,
   "metadata": {},
   "outputs": [
    {
     "name": "stdout",
     "output_type": "stream",
     "text": [
      "– Die POESIESt Dinnge dar anda.)\n",
      "– er iftr g.\n",
      "– Mürrwaungichth\n"
     ]
    }
   ],
   "source": [
    "''' Generate text. '''\n",
    "\n",
    "generated_text = '– Die POESIE' # We start with this as input.\n",
    "\n",
    "# The code below is executed 50 times to append 50 characters.\n",
    "\n",
    "for i in range(50):\n",
    "    \n",
    "    # The last token of generated_text is the key to get the next token.\n",
    "    key = generated_text[-1]\n",
    "    \n",
    "    # Pick one token for this key.\n",
    "    choice = next_token(key)\n",
    "    \n",
    "    # Append this token to the generated text.\n",
    "    \n",
    "    generated_text += choice\n",
    "    \n",
    "    \n",
    "    # We could write the code above into one line:\n",
    "#     generated_text += next_token(generated_text[-1])\n",
    "\n",
    "# We print the generated text once when the for-loop has finished.\n",
    "print(generated_text)"
   ]
  },
  {
   "cell_type": "markdown",
   "metadata": {},
   "source": [
    "## N-Order text generation (3rd and above)\n",
    "\n",
    "In principle this is nothing else than the second-order text generation, except that we take not just one token into account (as key) when we predict the next token.\n",
    "\n",
    "![ngrams.png](images/ngrams.png)\n",
    "\n",
    "Third-Order (n=2) means that we use two tokens as key,<br>\n",
    "Fourth-Order are three tokens (n=3),<br>\n",
    "...\n",
    "\n",
    "We will write a more dynamic code and use a variable `n` to define how many tokens are used as key.<br>\n",
    "Then we can easily change this."
   ]
  },
  {
   "cell_type": "code",
   "execution_count": 14,
   "metadata": {},
   "outputs": [],
   "source": [
    "''' Create a vocabulary.\n",
    "Store all n token as key and their next tokens as values. '''\n",
    "\n",
    "n = 2\n",
    "vocabulary = {}\n",
    "\n",
    "for i in range(len(txt) -n): # Now it's important to stop the loop at len() - n.\n",
    "    \n",
    "    # The current token (i) and the next tokens (i+n) are key.\n",
    "    key = txt[i:i+n]\n",
    "    \n",
    "    # The next token after the last token of key is the corresponding value.\n",
    "    value = txt[i+n]\n",
    "    \n",
    "    # First check if the key exists in the dictionary already.\n",
    "    if key in vocabulary.keys():\n",
    "        # If yes, append the value to the list.\n",
    "        vocabulary[key].append(value)\n",
    "        \n",
    "    # Else insert the new key + the value in form of a [list].\n",
    "    else:\n",
    "        vocabulary[key] = [value]\n",
    "        \n",
    "''' Function to return a randomly selected character from our list of options.\n",
    "This is similar to the function we used above, but we first check if a key exists.\n",
    "If not, we pick a random key of our dictionary. '''\n",
    "\n",
    "def next_token(key):\n",
    "    \n",
    "    # First check if the key is included in the dictionary.\n",
    "    \n",
    "    if not key in vocabulary.keys():        \n",
    "        # If not: pick a random key.\n",
    "        key = random.choice(list(vocabulary.keys()))\n",
    "        \n",
    "    # Get all options for this key.\n",
    "    options = vocabulary[key]\n",
    "    \n",
    "    # Return a random choice of this list.\n",
    "    return random.choice(options)"
   ]
  },
  {
   "cell_type": "code",
   "execution_count": 15,
   "metadata": {},
   "outputs": [
    {
     "name": "stdout",
     "output_type": "stream",
     "text": [
      "key: at\n",
      "options:\n"
     ]
    },
    {
     "data": {
      "text/plain": [
       "['i', 'o', ' ', 'ü', 's', ' ', 'z']"
      ]
     },
     "execution_count": 15,
     "metadata": {},
     "output_type": "execute_result"
    }
   ],
   "source": [
    "''' Test: print all options for one key. \n",
    "Make sure that the key has the length defined in n. '''\n",
    "\n",
    "key = random.choice(list(vocabulary.keys()))\n",
    "print('key:', key)\n",
    "print('options:')\n",
    "vocabulary[key]"
   ]
  },
  {
   "cell_type": "code",
   "execution_count": 16,
   "metadata": {},
   "outputs": [
    {
     "data": {
      "text/plain": [
       "' '"
      ]
     },
     "execution_count": 16,
     "metadata": {},
     "output_type": "execute_result"
    }
   ],
   "source": [
    "''' Test: pick a random next token. '''\n",
    "next_token(key)"
   ]
  },
  {
   "cell_type": "markdown",
   "metadata": {},
   "source": [
    "### Generate n-order random text"
   ]
  },
  {
   "cell_type": "code",
   "execution_count": 17,
   "metadata": {},
   "outputs": [
    {
     "name": "stdout",
     "output_type": "stream",
     "text": [
      "– Die POESIE ihr, undenserd; sie Welt von erdem Gegewussnalsch\n"
     ]
    }
   ],
   "source": [
    "''' Generate text. '''\n",
    "\n",
    "generated_text = '– Die POESIE' # We start with this as input.\n",
    "\n",
    "for i in range(50):\n",
    "    \n",
    "    # The last n token of generated_text is the key to get the next token.\n",
    "    key = generated_text[-n:]\n",
    "    \n",
    "    # Pick one token for this key.\n",
    "    choice = next_token(key)\n",
    "    \n",
    "    # Append this token to the generated text.\n",
    "    \n",
    "    generated_text += choice\n",
    "    \n",
    "    # The code above as one line:\n",
    "#     generated_text += next_token(generated_text[-n:])\n",
    "    \n",
    "# We print the generated text once when the for-loop has finished.\n",
    "print(generated_text)"
   ]
  },
  {
   "cell_type": "markdown",
   "metadata": {},
   "source": [
    "## N-Order text generation with probability table\n",
    "\n",
    "(This is also similar to the code above, but creates a probability table to chose from instead of a list with all possible tokens (in multiple occurences).)\n",
    "\n",
    "For an introduction into this, have a look at the last part of [this Notebook](https://github.com/experimental-informatics/hands-on-python/blob/master/dictionary_list.ipynb) about lists and dictionaries.\n",
    "\n",
    "*This Method might result in the same as working without a probability table, since the distribution is already implied.*\n",
    "\n",
    "*But once we work on a more complex and longer text, this method will be more efficient and reduce time complexity.*\n",
    "\n",
    "\n",
    "\n",
    "Keep in mind every single token may have more than one possible next token. \n",
    "\n",
    "So we need to create a `nested dictionary` to store probability values.\n",
    "\n",
    "It might looks like this, having a `dictionary` in a `dictionary`.\n",
    "\n",
    "With the example \n",
    "\n",
    "```python\n",
    "{\n",
    "    'a':{'a':0.1, 'b':0.09, 'c':0.3, 'd':0 ......}\n",
    "    'b':{'a':0.03, 'b':0.02, 'c':0.14, 'd':0.04 ......}\n",
    "    'c':{'a':0.06, 'b':0.1, 'c':0.17, 'd':0.02 ......}\n",
    "    .\n",
    "    .\n",
    "    .\n",
    "}\n",
    "```\n",
    "\n",
    "Hence the `'a','b'` need to be bind as a tuple.\n",
    "\n",
    "All probability values for one key sum up to 1 (100%)."
   ]
  },
  {
   "cell_type": "code",
   "execution_count": 18,
   "metadata": {},
   "outputs": [],
   "source": [
    "n = 5\n",
    "\n",
    "vocabulary={}\n",
    "for i in range(len(txt) -n):\n",
    "    key = txt[i:i+n]\n",
    "    value = txt[i+n]\n",
    "    # Check if the key exists.\n",
    "    if key in vocabulary.keys():\n",
    "        # If yes, append the value.\n",
    "        vocabulary[key].append(value)\n",
    "    # Else insert a new key + value.\n",
    "    else:\n",
    "        vocabulary[key] = [value]\n",
    "        \n",
    "''' Calculate the probability. '''\n",
    "\n",
    "for key, value in vocabulary.items():\n",
    "    length = len(vocabulary[key])\n",
    "    temporary_dic = {}\n",
    "    for char in value:\n",
    "        if(char not in temporary_dic.keys()):\n",
    "            temporary_dic[char] = 1\n",
    "        else:\n",
    "            temporary_dic[char] += 1   \n",
    "    # Uncomment the next line to show all probabilities.\n",
    "#     print(key, temporary_dic)\n",
    "            \n",
    "    for _keys,amount in temporary_dic.items():\n",
    "        temporary_dic[_keys] = (amount/length)\n",
    "    vocabulary[key] = temporary_dic"
   ]
  },
  {
   "cell_type": "markdown",
   "metadata": {},
   "source": [
    "Now we create a function to pick the next token based on our dictionary, with probabilities as their weights."
   ]
  },
  {
   "cell_type": "code",
   "execution_count": 19,
   "metadata": {},
   "outputs": [],
   "source": [
    "''' Return a randomly selected token from our list of options. '''\n",
    "\n",
    "def next_token(key):\n",
    "\n",
    "    # Check if key is included in the vocabulary.\n",
    "    if not key in vocabulary.keys():\n",
    "        # If not, pick a random key from the vocabulary.\n",
    "        key = random.choice(list(vocabulary.keys()))\n",
    "\n",
    "    # Otherwise we'll use the key given as argument.\n",
    "    \n",
    "    # Return the next token for the key.\n",
    "    # The [0] in the end is because the random choice based on probability returns a list.\n",
    "    return random.choices(list(vocabulary[key].keys()), weights=vocabulary[key].values())[0]"
   ]
  },
  {
   "cell_type": "markdown",
   "metadata": {},
   "source": [
    "### Generate n-order random text"
   ]
  },
  {
   "cell_type": "code",
   "execution_count": 20,
   "metadata": {},
   "outputs": [
    {
     "name": "stdout",
     "output_type": "stream",
     "text": [
      "– Die POESIE sagt nicht.\n",
      "(Regierungen sind immer da.)\n",
      "\n",
      "– Die POESIE kann ignoriert werden.\n",
      "\n",
      "– Die POESIE entsteht trotzdem da und insofoern ist, bleibt er ein Poet.)\n",
      "\n",
      "– Die POESIE sagt nicht.\n",
      "(Regierungen sind im\n"
     ]
    }
   ],
   "source": [
    "''' Generate text. '''\n",
    "\n",
    "generated_text = '– Die POESIE'\n",
    "\n",
    "for i in range(200):\n",
    "    generated_text += next_token(generated_text[-n:])\n",
    "    \n",
    "print(generated_text)"
   ]
  }
 ],
 "metadata": {
  "kernelspec": {
   "display_name": "Python 3",
   "language": "python",
   "name": "python3"
  },
  "language_info": {
   "codemirror_mode": {
    "name": "ipython",
    "version": 3
   },
   "file_extension": ".py",
   "mimetype": "text/x-python",
   "name": "python",
   "nbconvert_exporter": "python",
   "pygments_lexer": "ipython3",
   "version": "3.8.5"
  }
 },
 "nbformat": 4,
 "nbformat_minor": 4
}
