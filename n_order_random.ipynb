{
 "cells": [
  {
   "cell_type": "markdown",
   "metadata": {},
   "source": [
    "# N-Order random text generation"
   ]
  },
  {
   "cell_type": "code",
   "execution_count": 1,
   "metadata": {},
   "outputs": [],
   "source": [
    "import random"
   ]
  },
  {
   "cell_type": "markdown",
   "metadata": {},
   "source": [
    "## Zero-Order text generation\n",
    "\n",
    "Pure random choice. Every character is choosen by the same probabilty. No text is used as a base."
   ]
  },
  {
   "cell_type": "markdown",
   "metadata": {},
   "source": [
    "### Create vocabulary"
   ]
  },
  {
   "cell_type": "code",
   "execution_count": 2,
   "metadata": {},
   "outputs": [
    {
     "name": "stdout",
     "output_type": "stream",
     "text": [
      "['A', 'B', 'C', 'D', 'E', 'F', 'G', 'H', 'I', 'J', 'K', 'L', 'M', 'N', 'O', 'P', 'Q', 'R', 'S', 'T', 'U', 'V', 'W', 'X', 'Y', 'Z']\n"
     ]
    }
   ],
   "source": [
    "''' Create a list of all characters between A and Z. '''\n",
    "vocab = [chr(c) for c in range(ord('A'), ord('Z') + 1)]\n",
    "print(vocab)"
   ]
  },
  {
   "cell_type": "code",
   "execution_count": 3,
   "metadata": {},
   "outputs": [
    {
     "name": "stdout",
     "output_type": "stream",
     "text": [
      "['A', 'B', 'C', 'D', 'E', 'F', 'G', 'H', 'I', 'J', 'K', 'L', 'M', 'N', 'O', 'P', 'Q', 'R', 'S', 'T', 'U', 'V', 'W', 'X', 'Y', 'Z', ',', '.', '!', '?', ' ']\n"
     ]
    }
   ],
   "source": [
    "''' Append punctuation and a space. '''\n",
    "for punct in [',', '.', '!', '?', ' ']:\n",
    "    vocab.append(punct)\n",
    "\n",
    "print(vocab)"
   ]
  },
  {
   "cell_type": "code",
   "execution_count": 4,
   "metadata": {},
   "outputs": [
    {
     "data": {
      "text/plain": [
       "31"
      ]
     },
     "execution_count": 4,
     "metadata": {},
     "output_type": "execute_result"
    }
   ],
   "source": [
    "len(vocab)"
   ]
  },
  {
   "cell_type": "markdown",
   "metadata": {},
   "source": [
    "### Pick a random symbol from the vocabulary"
   ]
  },
  {
   "cell_type": "code",
   "execution_count": 5,
   "metadata": {},
   "outputs": [
    {
     "name": "stdout",
     "output_type": "stream",
     "text": [
      "4\n"
     ]
    },
    {
     "data": {
      "text/plain": [
       "'E'"
      ]
     },
     "execution_count": 5,
     "metadata": {},
     "output_type": "execute_result"
    }
   ],
   "source": [
    "index = random.randint(0, len(vocab) -1)\n",
    "print(index)\n",
    "vocab[index]"
   ]
  },
  {
   "cell_type": "markdown",
   "metadata": {},
   "source": [
    "### Generate zero-order random text"
   ]
  },
  {
   "cell_type": "code",
   "execution_count": 7,
   "metadata": {},
   "outputs": [
    {
     "name": "stdout",
     "output_type": "stream",
     "text": [
      "LYETKWS.BVK!!EAYL AGNQ,W OZOB,APSFXM?WZTXCUSM.TCUP.FTOVGUHYN\n"
     ]
    }
   ],
   "source": [
    "generated_text = '' # Variable to store our generated text.\n",
    "\n",
    "for i in range(60):\n",
    "    # Get a random index.\n",
    "    index = random.randint(0, len(vocab) - 1)\n",
    "    \n",
    "    # Get the corresponding symbol.\n",
    "    symbol = vocab[index]\n",
    "    \n",
    "    # Append it to our generated text.\n",
    "    generated_text += symbol\n",
    "\n",
    "# Print the generated text after the loop has ended.\n",
    "print(generated_text)"
   ]
  },
  {
   "cell_type": "markdown",
   "metadata": {},
   "source": [
    "## First-Order text generation\n",
    "\n",
    "Probabilities are drawn from a text analysis. Characters that appear more often in the text will have a higher probability to be chosen."
   ]
  },
  {
   "cell_type": "code",
   "execution_count": 9,
   "metadata": {},
   "outputs": [
    {
     "name": "stdout",
     "output_type": "stream",
     "text": [
      "characters: ['a', 'a', 'a', 'b', 'a', 'a'] \n",
      "\n",
      "a a a a a a b a a a a a a a a a a a a a "
     ]
    }
   ],
   "source": [
    "''' Example. '''\n",
    "\n",
    "txt = 'aaabaa'\n",
    "\n",
    "''' The easiest method is to simply store all characters in a list.\n",
    "Characters that appear often in the text are more often stored in the list\n",
    "and thus picked more often. '''\n",
    "\n",
    "characters = [c for c in txt]\n",
    "print('characters:', characters, '\\n')\n",
    "\n",
    "for i in range(20):\n",
    "    print(random.choice(characters), end=' ')"
   ]
  },
  {
   "cell_type": "code",
   "execution_count": 10,
   "metadata": {},
   "outputs": [
    {
     "name": "stdout",
     "output_type": "stream",
     "text": [
      "\n",
      "– Die POESIE ist zweckfrei.\n",
      "(Schon das macht sie zur Irritation.)\n",
      "\n",
      "– Die POESIE muss kein Kabinett bilden, zum Beispiel, und muss nicht von einer analphabetischen Mehrheit gewählt werden.\n",
      "\n",
      "– Die POES\n"
     ]
    }
   ],
   "source": [
    "''' Frisch, Max. Schwarzes Quadrat. Zwei Poetikvorlesungen. Frankfurt am Main: Suhrkamp, 2008. 73-74. '''\n",
    "\n",
    "txt = '''\n",
    "– Die POESIE ist zweckfrei.\n",
    "(Schon das macht sie zur Irritation.)\n",
    "\n",
    "– Die POESIE muss kein Kabinett bilden, zum Beispiel, und muss nicht von einer analphabetischen Mehrheit gewählt werden.\n",
    "\n",
    "– Die POESIE ist da oder manchmal auch nicht.\n",
    "(Regierungen sind immer da.)\n",
    "\n",
    "– Die POESIE kann ignoriert werden.\n",
    "(Ohne dass die Polizei deswegen eingreift.)\n",
    "\n",
    "– Die POESIE entsteht trotzdem da und dort.\n",
    "\n",
    "– Die POESIE ist der Durchbruch zur genuinen Erfahrung unsrer menschlichen Existenz in ihrer geschichtlichen Bedingtheit. Sie befreit uns zur Spontaneität – was beides sein kann: Glück oder Schrecken.\n",
    "(Regierungen wollen immer nur unser Glück.)\n",
    "\n",
    "– Die POESIE macht uns betroffen.\n",
    "(Lebendig.)\n",
    "\n",
    "– Die POESIE unterwandert unser ideologisiertes Bewusstsein und insofoern ist sie subversiv in jedem gesellschaftlichen System.\n",
    "(Platon hat natürlich recht: der Poet ist als Staatsbürger dubios, auch wenn er seine Steuern zahlt, auch wenn er als Soldat gehorcht, damit er nicht von seinen eignen Leuten erschossen wird; solange er aber nicht erschossen ist, bleibt er ein Poet.)\n",
    "\n",
    "– Die POESIE muss keine Massnahmen ergreifen.\n",
    "(Sie muss nur Poesie sein.)\n",
    "\n",
    "– Die POESIE findet sich nicht ab (im Gegensatz zur Politik) mit dem Machbaren; sie kann nicht lassen von der Trauer, dass das Menschsein auf dieser Erde nicht anders ist.\n",
    "\n",
    "– Die POESIE sagt nicht, wohin mit dem Atom-Müll.\n",
    "(Rezepte sind von ihr nicht zu erwarten.)\n",
    "\n",
    "– Die POESIE ist arrogant.\n",
    "(Sie entzieht sich der Pflicht, die Welt zu regieren.)\n",
    "\n",
    "– Die POESIE ist unbrauchbar.\n",
    "(Es genügt ihr, dass sie da ist: als Ausdruck unseres profunden Ungenügens und unsrer profunden Sehnsucht.)\n",
    "\n",
    "– Die POESIE wahrt die Utopie.\n",
    "'''\n",
    "print(txt[:200])"
   ]
  },
  {
   "cell_type": "markdown",
   "metadata": {},
   "source": [
    "### Generate first-order random text"
   ]
  },
  {
   "cell_type": "code",
   "execution_count": 12,
   "metadata": {},
   "outputs": [
    {
     "name": "stdout",
     "output_type": "stream",
     "text": [
      "e  otnrt s  ng ermD  ineriuc\n",
      "eE tgi ncsd ennu. mt "
     ]
    }
   ],
   "source": [
    "characters = [c for c in txt]\n",
    "\n",
    "for i in range(50):\n",
    "    print(random.choice(characters), end='')"
   ]
  },
  {
   "cell_type": "markdown",
   "metadata": {},
   "source": [
    "## Second-Order text generation\n",
    "\n",
    "The probability of a character is drawn from its left neighbor. "
   ]
  },
  {
   "cell_type": "markdown",
   "metadata": {},
   "source": [
    "### Create vocabulary"
   ]
  },
  {
   "cell_type": "code",
   "execution_count": 9,
   "metadata": {},
   "outputs": [],
   "source": [
    "''' Create a vocabulary.\n",
    "Store for each character all characters that are next to it in a dictionary.'''\n",
    "\n",
    "vocabulary = {}\n",
    "\n",
    "for i in range(len(txt) -1):\n",
    "    key = txt[i]\n",
    "    value = txt[i+1]\n",
    "    # check if key exists\n",
    "    if key in vocabulary.keys():\n",
    "        # append value\n",
    "        vocabulary[key].append(value)\n",
    "    # else insert new key + value\n",
    "    else:\n",
    "        vocabulary[key] = [value]"
   ]
  },
  {
   "cell_type": "code",
   "execution_count": 10,
   "metadata": {},
   "outputs": [
    {
     "data": {
      "text/plain": [
       "['O',\n",
       " 'O',\n",
       " 'O',\n",
       " 'O',\n",
       " 'o',\n",
       " 'O',\n",
       " 'O',\n",
       " 'O',\n",
       " 'O',\n",
       " 'l',\n",
       " 'o',\n",
       " 'o',\n",
       " 'O',\n",
       " 'o',\n",
       " 'O',\n",
       " 'o',\n",
       " 'O',\n",
       " 'O',\n",
       " 'f',\n",
       " 'O',\n",
       " 'O']"
      ]
     },
     "execution_count": 10,
     "metadata": {},
     "output_type": "execute_result"
    }
   ],
   "source": [
    "''' Print all options for one character. '''\n",
    "vocabulary['P']"
   ]
  },
  {
   "cell_type": "code",
   "execution_count": 11,
   "metadata": {},
   "outputs": [
    {
     "name": "stdout",
     "output_type": "stream",
     "text": [
      "o\n"
     ]
    }
   ],
   "source": [
    "''' Return a randomly selected character from our list of options. '''\n",
    "\n",
    "def next_token(input_):\n",
    "    # Get all options stored for one character.\n",
    "    options = vocabulary[input_]\n",
    "    # Pick one.\n",
    "    choice = random.choice(options)\n",
    "    # Return this value.\n",
    "    return choice\n",
    "\n",
    "print(next_token('P'))"
   ]
  },
  {
   "cell_type": "markdown",
   "metadata": {},
   "source": [
    "### Generate second-order random text"
   ]
  },
  {
   "cell_type": "code",
   "execution_count": 12,
   "metadata": {},
   "outputs": [
    {
     "name": "stdout",
     "output_type": "stream",
     "text": [
      "– Die POESIESIESoroenginihrt z Lenn Mamer ier m-Müchrusollldie\n"
     ]
    }
   ],
   "source": [
    "''' Generate text. '''\n",
    "\n",
    "generated_text = '– Die POESIE' # We start with this as input.\n",
    "\n",
    "# The code below is executed 50 times to append 50 characters.\n",
    "for i in range(50):\n",
    "    # We insert the last character of generated_text as input\n",
    "    # and append the one returned value to the generated_text.\n",
    "    generated_text += next_token(generated_text[-1])\n",
    "    \n",
    "print(generated_text)"
   ]
  },
  {
   "cell_type": "markdown",
   "metadata": {},
   "source": [
    "## Third-Order text generation"
   ]
  },
  {
   "cell_type": "code",
   "execution_count": 13,
   "metadata": {},
   "outputs": [],
   "source": [
    "''' Create a vocabulary.\n",
    "Store for each character all characters that are next to it.'''\n",
    "\n",
    "n = 2\n",
    "vocabulary = {}\n",
    "\n",
    "for i in range(len(txt) -n):\n",
    "    key = txt[i:i+n]\n",
    "    value = txt[i+n]\n",
    "    # check if key exists\n",
    "    if key in vocabulary.keys():\n",
    "        # append value\n",
    "        vocabulary[key].append(value)\n",
    "    # else insert new key + value\n",
    "    else:\n",
    "        vocabulary[key] = [value]"
   ]
  },
  {
   "cell_type": "code",
   "execution_count": 14,
   "metadata": {},
   "outputs": [
    {
     "data": {
      "text/plain": [
       "['E', 'E', 'E', 'E', 'E', 'E', 'E', 'E', 'E', 'E', 'E', 'E', 'E', 'E']"
      ]
     },
     "execution_count": 14,
     "metadata": {},
     "output_type": "execute_result"
    }
   ],
   "source": [
    "''' Print all options for n characters. '''\n",
    "vocabulary['PO']"
   ]
  },
  {
   "cell_type": "code",
   "execution_count": 15,
   "metadata": {},
   "outputs": [],
   "source": [
    "''' Return a randomly selected character from our list of options. '''\n",
    "\n",
    "def next_token(key):\n",
    "    # check if token is included in the vocabulary\n",
    "    if not key in vocabulary.keys():\n",
    "        # pick a random key\n",
    "        key = random.choice(list(vocabulary.keys()))\n",
    "    # get options\n",
    "    options = vocabulary[key]\n",
    "    # return a random choice\n",
    "    return random.choice(options)"
   ]
  },
  {
   "cell_type": "code",
   "execution_count": 16,
   "metadata": {},
   "outputs": [
    {
     "name": "stdout",
     "output_type": "stream",
     "text": [
      "E\n"
     ]
    }
   ],
   "source": [
    "print(next_token('PO'))"
   ]
  },
  {
   "cell_type": "markdown",
   "metadata": {},
   "source": [
    "### Generate third-order random text"
   ]
  },
  {
   "cell_type": "code",
   "execution_count": 17,
   "metadata": {},
   "outputs": [
    {
     "name": "stdout",
     "output_type": "stream",
     "text": [
      "– Die POESIE mität las gehr, dubver auchbart.\n",
      "(Plat angen.\n",
      "\n",
      "– \n"
     ]
    }
   ],
   "source": [
    "''' Generate text. '''\n",
    "\n",
    "generated_text = '– Die POESIE'\n",
    "\n",
    "for i in range(50):\n",
    "    generated_text += next_token(generated_text[-n:])\n",
    "    \n",
    "print(generated_text)"
   ]
  },
  {
   "cell_type": "markdown",
   "metadata": {},
   "source": [
    "## N-Order text generation\n",
    "\n",
    "(This is similar to the code above, but reduced to the necessary code.)"
   ]
  },
  {
   "cell_type": "code",
   "execution_count": 18,
   "metadata": {},
   "outputs": [],
   "source": [
    "''' Create a vocabulary.\n",
    "Store for each character all characters that are next to it.'''\n",
    "\n",
    "n = 5\n",
    "vocabulary = {}\n",
    "\n",
    "for i in range(len(txt) -n):\n",
    "    key = txt[i:i+n]\n",
    "    value = txt[i+n]\n",
    "    # check if key exists\n",
    "    if key in vocabulary.keys():\n",
    "        # append value\n",
    "        vocabulary[key].append(value)\n",
    "    # else insert new key + value\n",
    "    else:\n",
    "        vocabulary[key] = [value]\n",
    "        \n",
    "''' Return a randomly selected character from our list of options. '''\n",
    "\n",
    "def next_token(key):\n",
    "    # check if token is included in the vocabulary\n",
    "    if not key in vocabulary.keys():\n",
    "        # pick a random key\n",
    "        key = random.choice(list(vocabulary.keys()))\n",
    "    # get options\n",
    "    options = vocabulary[key]\n",
    "    # return a random choice\n",
    "    return random.choice(options)"
   ]
  },
  {
   "cell_type": "markdown",
   "metadata": {},
   "source": [
    "### Generate n-order random text"
   ]
  },
  {
   "cell_type": "code",
   "execution_count": 20,
   "metadata": {},
   "outputs": [
    {
     "name": "stdout",
     "output_type": "stream",
     "text": [
      "– Die POESIE ist unbrauchbaren; sie zur Spontaneität – was beides seine Steuern zahlt, auch wenn er aber nicht zu regierungen sind immer nur Poet.)\n",
      "\n",
      "– Die POESIE ist zweckfrei.\n",
      "(Schon das Menschlichen Bedingtheit\n"
     ]
    }
   ],
   "source": [
    "''' Generate text. '''\n",
    "\n",
    "generated_text = '– Die POESIE'\n",
    "\n",
    "for i in range(200):\n",
    "    generated_text += next_token(generated_text[-n:])\n",
    "    \n",
    "print(generated_text)"
   ]
  }
 ],
 "metadata": {
  "kernelspec": {
   "display_name": "Python 3",
   "language": "python",
   "name": "python3"
  },
  "language_info": {
   "codemirror_mode": {
    "name": "ipython",
    "version": 3
   },
   "file_extension": ".py",
   "mimetype": "text/x-python",
   "name": "python",
   "nbconvert_exporter": "python",
   "pygments_lexer": "ipython3",
   "version": "3.8.5"
  }
 },
 "nbformat": 4,
 "nbformat_minor": 4
}
